{
 "cells": [
  {
   "cell_type": "code",
   "execution_count": null,
   "id": "85bb96b6-d26c-4301-b6a5-a715d23be6a1",
   "metadata": {},
   "outputs": [],
   "source": [
    "print(\"Hello World\""
   ]
  }
 ],
 "metadata": {
  "kernelspec": {
   "display_name": "R",
   "language": "R",
   "name": "ir"
  },
  "language_info": {
   "codemirror_mode": "r",
   "file_extension": ".r",
   "mimetype": "text/x-r-source",
   "name": "R",
   "pygments_lexer": "r",
   "version": "4.1.2"
  }
 },
 "nbformat": 4,
 "nbformat_minor": 5
}
